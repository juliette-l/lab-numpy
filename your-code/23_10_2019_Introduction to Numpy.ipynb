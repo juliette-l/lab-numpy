{
 "cells": [
  {
   "cell_type": "markdown",
   "metadata": {},
   "source": [
    "# Intrduction to NumPy\n",
    "\n",
    "\n",
    "#### 1. Import NumPy under the name np."
   ]
  },
  {
   "cell_type": "code",
   "execution_count": 1,
   "metadata": {},
   "outputs": [],
   "source": [
    "# your code here\n",
    "import numpy as np\n"
   ]
  },
  {
   "cell_type": "markdown",
   "metadata": {},
   "source": [
    "#### 2. Print your NumPy version."
   ]
  },
  {
   "cell_type": "code",
   "execution_count": 2,
   "metadata": {},
   "outputs": [
    {
     "name": "stdout",
     "output_type": "stream",
     "text": [
      "1.17.3\n"
     ]
    }
   ],
   "source": [
    "# your code here\n",
    "import numpy as np\n",
    "# to print my np version\n",
    "print(np.__version__)"
   ]
  },
  {
   "cell_type": "markdown",
   "metadata": {},
   "source": [
    "#### 3. Generate a 2x3x5 3-dimensional array with random values. Assign the array to variable *a*.\n",
    "**Challenge**: there are at least three easy ways that use numpy to generate random arrays. How many ways can you find?"
   ]
  },
  {
   "cell_type": "code",
   "execution_count": 3,
   "metadata": {},
   "outputs": [
    {
     "name": "stdout",
     "output_type": "stream",
     "text": [
      "[[[0.40967725 0.33731351 0.73823716 0.25724007 0.87100101]\n",
      "  [0.12013084 0.93074161 0.71575614 0.51513719 0.35194305]\n",
      "  [0.42980534 0.74058969 0.24918823 0.32057922 0.98727991]]\n",
      "\n",
      " [[0.08414193 0.89094069 0.02099019 0.65190623 0.78486955]\n",
      "  [0.54202807 0.89501742 0.05939499 0.58580898 0.09424214]\n",
      "  [0.43487098 0.27578342 0.66400102 0.03972802 0.15269152]]]\n"
     ]
    }
   ],
   "source": [
    "# Method 1 to generate a random array\n",
    "\n",
    "a = np.random.random((2,3,5))\n",
    "print(a)\n",
    "\n"
   ]
  },
  {
   "cell_type": "code",
   "execution_count": 4,
   "metadata": {},
   "outputs": [
    {
     "name": "stdout",
     "output_type": "stream",
     "text": [
      "[-0.43019467  0.94966932  0.43760706  0.00836692 -1.81386021  0.14873168\n",
      "  0.5887611   0.14841504  0.97024746 -0.09041173  0.16612375 -0.1534672\n",
      " -0.06290481  0.44998117 -0.40996068 -0.43240292 -1.01433831  0.42643218\n",
      " -1.35626161  0.29943447  0.18679955 -0.57766528 -1.02581519  0.46285485\n",
      "  0.57874059  1.53054663 -0.88368186  0.06453373  0.15299996  0.57640151\n",
      " -1.93073913  0.09044838 -0.54315448 -0.75674232  0.16712867  0.66698477\n",
      "  1.02675902  0.04812642 -0.14362566 -1.48403809  0.14329731 -0.19299869\n",
      " -0.65637602 -0.74698726  0.25816098  0.72959931 -0.97993805 -1.01282355\n",
      "  1.40844393  0.58598431 -0.16976157  0.42540558 -1.02482576 -0.37601573\n",
      " -0.82740428 -0.14458066 -1.46285581  0.8402367  -0.70723952 -0.99488231\n",
      " -0.38455879 -0.2308962  -0.1735277  -1.75222096  1.00280048 -0.17013123\n",
      " -1.3067873  -1.74495523  2.32111219  0.15942922 -0.72146222  0.06053052\n",
      "  0.36080759 -0.18430137  0.12646051 -0.57928588 -0.82348347 -0.65428189\n",
      " -1.49281693  1.09936644  1.11317616  0.67896573  1.32112966 -0.48224457\n",
      "  1.41461334  1.03063589 -0.21461811  1.40662979  0.03883241 -0.42957648\n",
      "  0.59408108 -1.5569834  -0.31434198  2.226943   -0.45159755  0.27809766\n",
      " -0.52745462 -0.78422701 -0.24886125 -0.41554295]\n"
     ]
    }
   ],
   "source": [
    "# Method 2\n",
    "\n",
    "np.random.normal(size=100)\n",
    "\n",
    "print(np.random.normal(size=100))"
   ]
  },
  {
   "cell_type": "code",
   "execution_count": 5,
   "metadata": {},
   "outputs": [
    {
     "name": "stdout",
     "output_type": "stream",
     "text": [
      "[0.03891927 0.24601736 0.4639097  0.45331017 0.05361654 0.03403621\n",
      " 0.71541319 0.72004598 0.8858859  0.66018028 0.28908403 0.43132288\n",
      " 0.95953322 0.2013963  0.03254777 0.27706743 0.28792951 0.34752469\n",
      " 0.50116992 0.93520663 0.52053923 0.46468622 0.40850064 0.56515891\n",
      " 0.10647006 0.62120411 0.38926938 0.3516033  0.02547155 0.56295935\n",
      " 0.81491351 0.82382371 0.23726149 0.21667098 0.24798565 0.01187486\n",
      " 0.40835625 0.95675175 0.45055002 0.66205941 0.35847374 0.57838176\n",
      " 0.33154146 0.50092241 0.98471624 0.43781684 0.76723018 0.95127791\n",
      " 0.20590198 0.56690147 0.01569381 0.01768582 0.57554478 0.81337784\n",
      " 0.23939463 0.19303234 0.81979889 0.74437733 0.07874734 0.32693532\n",
      " 0.68481592 0.11912238 0.25455658 0.61358037 0.06656338 0.50810294\n",
      " 0.16750831 0.8241741  0.07631453 0.32916377 0.33119668 0.17984146\n",
      " 0.82872372 0.47813949 0.33187313 0.93691751 0.66044726 0.86104943\n",
      " 0.42607853 0.57268643 0.99436989 0.80502507 0.40166995 0.72656378\n",
      " 0.88502313 0.65119311 0.65689938 0.49085686 0.18730964 0.63277896\n",
      " 0.30583499 0.42832395 0.44137994 0.04667981 0.03253232 0.45344982\n",
      " 0.16815258 0.37723476 0.25861581 0.44628339]\n"
     ]
    }
   ],
   "source": [
    "# Method 3\n",
    "# generating 100 random numbers\n",
    "np.random.uniform(size=100)\n",
    "\n",
    "print(np.random.uniform(size = 100))"
   ]
  },
  {
   "cell_type": "markdown",
   "metadata": {},
   "source": [
    "#### 4. Print *a*.\n"
   ]
  },
  {
   "cell_type": "code",
   "execution_count": 6,
   "metadata": {},
   "outputs": [
    {
     "name": "stdout",
     "output_type": "stream",
     "text": [
      "[[[0.7806438  0.62090637 0.07218221 0.42612776 0.17251172]\n",
      "  [0.03548096 0.8276122  0.43703142 0.009544   0.83764534]\n",
      "  [0.77778644 0.14692062 0.19670214 0.61452097 0.53764586]]\n",
      "\n",
      " [[0.109715   0.95749109 0.28244057 0.59434882 0.05894705]\n",
      "  [0.80855971 0.41227853 0.08839055 0.80994422 0.64550988]\n",
      "  [0.97637958 0.42456065 0.73217111 0.62906419 0.80328208]]]\n"
     ]
    }
   ],
   "source": [
    "# your code here\n",
    "\n",
    "a = np.random.random((2,3,5))\n",
    "print(a)"
   ]
  },
  {
   "cell_type": "markdown",
   "metadata": {},
   "source": [
    "#### 5. Create a 5x2x3 3-dimensional array with all values equaling 1. Assign the array to variable *b*."
   ]
  },
  {
   "cell_type": "code",
   "execution_count": 7,
   "metadata": {},
   "outputs": [],
   "source": [
    "# your code here\n",
    "\n",
    "#5x2x3 3-dimensional array with all values equaling 1.\n",
    "import numpy as np\n",
    "\n",
    "b = np.ones((5,2,3))"
   ]
  },
  {
   "cell_type": "markdown",
   "metadata": {},
   "source": [
    "#### 6. Print *b*.\n"
   ]
  },
  {
   "cell_type": "code",
   "execution_count": 8,
   "metadata": {},
   "outputs": [
    {
     "name": "stdout",
     "output_type": "stream",
     "text": [
      "[[[1. 1. 1.]\n",
      "  [1. 1. 1.]]\n",
      "\n",
      " [[1. 1. 1.]\n",
      "  [1. 1. 1.]]\n",
      "\n",
      " [[1. 1. 1.]\n",
      "  [1. 1. 1.]]\n",
      "\n",
      " [[1. 1. 1.]\n",
      "  [1. 1. 1.]]\n",
      "\n",
      " [[1. 1. 1.]\n",
      "  [1. 1. 1.]]]\n"
     ]
    }
   ],
   "source": [
    "# your code here\n",
    "import numpy as np\n",
    "\n",
    "b = np.ones((5,2,3))\n",
    "print(b)"
   ]
  },
  {
   "cell_type": "markdown",
   "metadata": {},
   "source": [
    "#### 7. Do *a* and *b* have the same size? How do you prove that in Python code?"
   ]
  },
  {
   "cell_type": "code",
   "execution_count": 9,
   "metadata": {},
   "outputs": [
    {
     "name": "stdout",
     "output_type": "stream",
     "text": [
      "False\n"
     ]
    },
    {
     "name": "stderr",
     "output_type": "stream",
     "text": [
      "/usr/local/Cellar/ipython/7.8.0/libexec/vendor/lib/python3.7/site-packages/ipykernel_launcher.py:4: DeprecationWarning: elementwise comparison failed; this will raise an error in the future.\n",
      "  after removing the cwd from sys.path.\n",
      "/usr/local/Cellar/ipython/7.8.0/libexec/vendor/lib/python3.7/site-packages/ipykernel_launcher.py:6: DeprecationWarning: elementwise comparison failed; this will raise an error in the future.\n",
      "  \n"
     ]
    }
   ],
   "source": [
    "# your code here\n",
    "\n",
    "# a and b don´t have the same size. This can be proven by:\n",
    "np.all(a == b)\n",
    "\n",
    "print(np.all(a==b))"
   ]
  },
  {
   "cell_type": "markdown",
   "metadata": {},
   "source": [
    "#### 8. Are you able to add *a* and *b*? Why or why not?\n"
   ]
  },
  {
   "cell_type": "code",
   "execution_count": 10,
   "metadata": {},
   "outputs": [
    {
     "ename": "ValueError",
     "evalue": "operands could not be broadcast together with shapes (2,3,5) (5,2,3) ",
     "output_type": "error",
     "traceback": [
      "\u001b[0;31m---------------------------------------------------------------------------\u001b[0m",
      "\u001b[0;31mValueError\u001b[0m                                Traceback (most recent call last)",
      "\u001b[0;32m<ipython-input-10-76016299db90>\u001b[0m in \u001b[0;36m<module>\u001b[0;34m\u001b[0m\n\u001b[1;32m      1\u001b[0m \u001b[0;31m# your answer here\u001b[0m\u001b[0;34m\u001b[0m\u001b[0;34m\u001b[0m\u001b[0;34m\u001b[0m\u001b[0m\n\u001b[1;32m      2\u001b[0m \u001b[0;31m# a and b can´t be added because they don´t have the same size.\u001b[0m\u001b[0;34m\u001b[0m\u001b[0;34m\u001b[0m\u001b[0;34m\u001b[0m\u001b[0m\n\u001b[0;32m----> 3\u001b[0;31m \u001b[0mprint\u001b[0m\u001b[0;34m(\u001b[0m\u001b[0mnp\u001b[0m\u001b[0;34m.\u001b[0m\u001b[0madd\u001b[0m\u001b[0;34m(\u001b[0m\u001b[0ma\u001b[0m\u001b[0;34m,\u001b[0m \u001b[0mb\u001b[0m\u001b[0;34m)\u001b[0m\u001b[0;34m)\u001b[0m\u001b[0;34m\u001b[0m\u001b[0;34m\u001b[0m\u001b[0m\n\u001b[0m\u001b[1;32m      4\u001b[0m \u001b[0;34m\u001b[0m\u001b[0m\n\u001b[1;32m      5\u001b[0m \u001b[0;31m# this is giving the following answer: operands could not be broadcast together with shapes (2,3,5) (5,2,3)\u001b[0m\u001b[0;34m\u001b[0m\u001b[0;34m\u001b[0m\u001b[0;34m\u001b[0m\u001b[0m\n",
      "\u001b[0;31mValueError\u001b[0m: operands could not be broadcast together with shapes (2,3,5) (5,2,3) "
     ]
    }
   ],
   "source": [
    "# your answer here\n",
    "# a and b can´t be added because they don´t have the same size.\n",
    "print(np.add(a, b))\n",
    "\n",
    "# this is giving the following answer: operands could not be broadcast together with shapes (2,3,5) (5,2,3) "
   ]
  },
  {
   "cell_type": "markdown",
   "metadata": {},
   "source": [
    "#### 9. Transpose *b* so that it has the same structure of *a* (i.e. become a 2x3x5 array). Assign the transposed array to variable *c*."
   ]
  },
  {
   "cell_type": "code",
   "execution_count": 13,
   "metadata": {},
   "outputs": [
    {
     "name": "stdout",
     "output_type": "stream",
     "text": [
      "[[[1. 1. 1. 1. 1.]\n",
      "  [1. 1. 1. 1. 1.]]\n",
      "\n",
      " [[1. 1. 1. 1. 1.]\n",
      "  [1. 1. 1. 1. 1.]]\n",
      "\n",
      " [[1. 1. 1. 1. 1.]\n",
      "  [1. 1. 1. 1. 1.]]]\n"
     ]
    }
   ],
   "source": [
    "# your code here\n",
    "# b was (5,2,3). I want the first axis (= axis(0)) as the columns, axis (1) as the tables and axis (2) as the rows, so:\n",
    "c = np.transpose(b)\n",
    "print(c)\n"
   ]
  },
  {
   "cell_type": "code",
   "execution_count": 14,
   "metadata": {},
   "outputs": [
    {
     "name": "stdout",
     "output_type": "stream",
     "text": [
      "[[[1. 1. 1. 1. 1.]\n",
      "  [1. 1. 1. 1. 1.]\n",
      "  [1. 1. 1. 1. 1.]]\n",
      "\n",
      " [[1. 1. 1. 1. 1.]\n",
      "  [1. 1. 1. 1. 1.]\n",
      "  [1. 1. 1. 1. 1.]]]\n"
     ]
    }
   ],
   "source": [
    "# your code here\n",
    "# b was (5,2,3). I want the first axis (= axis(0)) as the columns, axis (1) as the tables and axis (2) as the rows, so:\n",
    "c = np.transpose(b, (1, 2, 0))\n",
    "print(c)"
   ]
  },
  {
   "cell_type": "markdown",
   "metadata": {},
   "source": [
    "#### 10. Try to add *a* and *c*. Now it should work. Assign the sum to variable *d*. But why does it work now?"
   ]
  },
  {
   "cell_type": "code",
   "execution_count": 15,
   "metadata": {},
   "outputs": [
    {
     "name": "stdout",
     "output_type": "stream",
     "text": [
      "[[[1.7806438  1.62090637 1.07218221 1.42612776 1.17251172]\n",
      "  [1.03548096 1.8276122  1.43703142 1.009544   1.83764534]\n",
      "  [1.77778644 1.14692062 1.19670214 1.61452097 1.53764586]]\n",
      "\n",
      " [[1.109715   1.95749109 1.28244057 1.59434882 1.05894705]\n",
      "  [1.80855971 1.41227853 1.08839055 1.80994422 1.64550988]\n",
      "  [1.97637958 1.42456065 1.73217111 1.62906419 1.80328208]]]\n"
     ]
    }
   ],
   "source": [
    "# your code/answer here\n",
    "\n",
    "#adding a and c\n",
    "\n",
    "d = np.add(a, c)\n",
    "print(d)"
   ]
  },
  {
   "cell_type": "markdown",
   "metadata": {},
   "source": [
    "#### 11. Print *a* and *d*. Notice the difference and relation of the two array in terms of the values? Explain."
   ]
  },
  {
   "cell_type": "code",
   "execution_count": 16,
   "metadata": {},
   "outputs": [
    {
     "name": "stdout",
     "output_type": "stream",
     "text": [
      "[[[0.7806438  0.62090637 0.07218221 0.42612776 0.17251172]\n",
      "  [0.03548096 0.8276122  0.43703142 0.009544   0.83764534]\n",
      "  [0.77778644 0.14692062 0.19670214 0.61452097 0.53764586]]\n",
      "\n",
      " [[0.109715   0.95749109 0.28244057 0.59434882 0.05894705]\n",
      "  [0.80855971 0.41227853 0.08839055 0.80994422 0.64550988]\n",
      "  [0.97637958 0.42456065 0.73217111 0.62906419 0.80328208]]]\n",
      "[[[1.7806438  1.62090637 1.07218221 1.42612776 1.17251172]\n",
      "  [1.03548096 1.8276122  1.43703142 1.009544   1.83764534]\n",
      "  [1.77778644 1.14692062 1.19670214 1.61452097 1.53764586]]\n",
      "\n",
      " [[1.109715   1.95749109 1.28244057 1.59434882 1.05894705]\n",
      "  [1.80855971 1.41227853 1.08839055 1.80994422 1.64550988]\n",
      "  [1.97637958 1.42456065 1.73217111 1.62906419 1.80328208]]]\n"
     ]
    }
   ],
   "source": [
    "# your code/answer here\n",
    "\n",
    "#printing a\n",
    "print(a)\n",
    "\n",
    "#adding a and c\n",
    "print(d)\n",
    "\n",
    "# The difference is because d is array a + 1 (which is c)"
   ]
  },
  {
   "cell_type": "markdown",
   "metadata": {},
   "source": [
    "#### 12. Multiply *a* and *c*. Assign the result to *e*."
   ]
  },
  {
   "cell_type": "code",
   "execution_count": 17,
   "metadata": {},
   "outputs": [
    {
     "name": "stdout",
     "output_type": "stream",
     "text": [
      "[[[0.7806438  0.62090637 0.07218221 0.42612776 0.17251172]\n",
      "  [0.03548096 0.8276122  0.43703142 0.009544   0.83764534]\n",
      "  [0.77778644 0.14692062 0.19670214 0.61452097 0.53764586]]\n",
      "\n",
      " [[0.109715   0.95749109 0.28244057 0.59434882 0.05894705]\n",
      "  [0.80855971 0.41227853 0.08839055 0.80994422 0.64550988]\n",
      "  [0.97637958 0.42456065 0.73217111 0.62906419 0.80328208]]]\n"
     ]
    }
   ],
   "source": [
    "# your code here\n",
    "# multiplying a and c\n",
    "e = print(np.multiply(a, c))"
   ]
  },
  {
   "cell_type": "markdown",
   "metadata": {},
   "source": [
    "#### 13. Does *e* equal to *a*? Why or why not?\n"
   ]
  },
  {
   "cell_type": "code",
   "execution_count": null,
   "metadata": {},
   "outputs": [],
   "source": [
    "# your code/answer here\n",
    "# Yes, e and a are the same, because e is a multiplied by 1 (c is an array of ones)"
   ]
  },
  {
   "cell_type": "markdown",
   "metadata": {},
   "source": [
    "#### 14. Identify the max, min, and mean values in *d*. Assign those values to variables *d_max*, *d_min* and *d_mean*."
   ]
  },
  {
   "cell_type": "code",
   "execution_count": 20,
   "metadata": {},
   "outputs": [
    {
     "name": "stdout",
     "output_type": "stream",
     "text": [
      "1.976379577450496\n",
      "1.0095440049344377\n",
      "1.4942114943889753\n"
     ]
    }
   ],
   "source": [
    "# your code here\n",
    "\n",
    "#max\n",
    "d_max = np.max(d)\n",
    "print(d_max)\n",
    "\n",
    "#min\n",
    "d_min = np.min(d)\n",
    "print(d_min)\n",
    "\n",
    "#mean\n",
    "d_mean = np.mean(d)\n",
    "print (d_mean)"
   ]
  },
  {
   "cell_type": "markdown",
   "metadata": {},
   "source": [
    "#### 15. Now we want to label the values in *d*. First create an empty array *f* with the same shape (i.e. 2x3x5) as *d* using `np.empty`.\n"
   ]
  },
  {
   "cell_type": "code",
   "execution_count": 18,
   "metadata": {},
   "outputs": [
    {
     "name": "stdout",
     "output_type": "stream",
     "text": [
      "[[[0.7806438  0.62090637 0.07218221 0.42612776 0.17251172]\n",
      "  [0.03548096 0.8276122  0.43703142 0.009544   0.83764534]\n",
      "  [0.77778644 0.14692062 0.19670214 0.61452097 0.53764586]]\n",
      "\n",
      " [[0.109715   0.95749109 0.28244057 0.59434882 0.05894705]\n",
      "  [0.80855971 0.41227853 0.08839055 0.80994422 0.64550988]\n",
      "  [0.97637958 0.42456065 0.73217111 0.62906419 0.80328208]]]\n"
     ]
    }
   ],
   "source": [
    "# your code here\n",
    "f = np.empty((2,3,5))\n",
    "print(f)"
   ]
  },
  {
   "cell_type": "markdown",
   "metadata": {},
   "source": [
    "#### 16. Populate the values in *f*. \n",
    "\n",
    "For each value in *d*, if it's larger than *d_min* but smaller than *d_mean*, assign 25 to the corresponding value in *f*. If a value in *d* is larger than *d_mean* but smaller than *d_max*, assign 75 to the corresponding value in *f*. If a value equals to *d_mean*, assign 50 to the corresponding value in *f*. Assign 0 to the corresponding value(s) in *f* for *d_min* in *d*. Assign 100 to the corresponding value(s) in *f* for *d_max* in *d*. In the end, f should have only the following values: 0, 25, 50, 75, and 100.\n",
    "\n",
    "**Note**: you don't have to use Numpy in this question."
   ]
  },
  {
   "cell_type": "code",
   "execution_count": 22,
   "metadata": {},
   "outputs": [
    {
     "name": "stdout",
     "output_type": "stream",
     "text": [
      "[[[ 75.  75.  25.  25.  25.]\n",
      "  [ 25.  75.  25.   0.  75.]\n",
      "  [ 75.  25.  25.  75.  75.]]\n",
      "\n",
      " [[ 25.  75.  25.  75.  25.]\n",
      "  [ 75.  25.  25.  75.  75.]\n",
      "  [100.  25.  75.  75.  75.]]]\n"
     ]
    }
   ],
   "source": [
    "# your code here\n",
    "\n",
    "f[(d > d_min) & (d < d_mean)] = 25\n",
    "f[(d > d_mean) & (d < d_max)] = 75\n",
    "f[(d == d_mean)] = 50\n",
    "f[(d == d_min)] = 0\n",
    "f[(d == d_max)] = 100\n",
    "\n",
    "print(f)\n",
    "    "
   ]
  },
  {
   "cell_type": "markdown",
   "metadata": {},
   "source": [
    "#### 17. Print *d* and *f*. Do you have your expected *f*?\n",
    "For instance, if your *d* is:\n",
    "```python\n",
    "[[[1.85836099, 1.67064465, 1.62576044, 1.40243961, 1.88454931],\n",
    "[1.75354326, 1.69403643, 1.36729252, 1.61415071, 1.12104981],\n",
    "[1.72201435, 1.1862918 , 1.87078449, 1.7726778 , 1.88180042]],\n",
    "[[1.44747908, 1.31673383, 1.02000951, 1.52218947, 1.97066381],\n",
    "[1.79129243, 1.74983003, 1.96028037, 1.85166831, 1.65450881],\n",
    "[1.18068344, 1.9587381 , 1.00656599, 1.93402165, 1.73514584]]]\n",
    "```\n",
    "Your *f* should be:\n",
    "```python\n",
    "[[[ 75.,  75.,  75.,  25.,  75.],\n",
    "[ 75.,  75.,  25.,  25.,  25.],\n",
    "[ 75.,  25.,  75.,  75.,  75.]],\n",
    "[[ 25.,  25.,  25.,  25., 100.],\n",
    "[ 75.,  75.,  75.,  75.,  75.],\n",
    "[ 25.,  75.,   0.,  75.,  75.]]]\n",
    "```"
   ]
  },
  {
   "cell_type": "code",
   "execution_count": null,
   "metadata": {},
   "outputs": [],
   "source": [
    "# your code here\n",
    "#printing d\n",
    "print(d)\n",
    "\n",
    "#printing f\n",
    "print(f)"
   ]
  },
  {
   "cell_type": "markdown",
   "metadata": {},
   "source": [
    "#### 18. Bonus question: instead of using numbers (i.e. 0, 25, 50, 75, and 100), use string values  (\"A\", \"B\", \"C\", \"D\", and \"E\") to label the array elements. For the example above, the expected result is:\n",
    "\n",
    "```python\n",
    "[[[ 'D',  'D',  'D',  'B',  'D'],\n",
    "[ 'D',  'D',  'B',  'B',  'B'],\n",
    "[ 'D',  'B',  'D',  'D',  'D']],\n",
    "[[ 'B',  'B',  'B',  'B',  'E'],\n",
    "[ 'D',  'D',  'D',  'D',  'D'],\n",
    "[ 'B',  'D',   'A',  'D', 'D']]]\n",
    "```\n",
    "**Note**: you don't have to use Numpy in this question."
   ]
  },
  {
   "cell_type": "code",
   "execution_count": null,
   "metadata": {},
   "outputs": [],
   "source": [
    "# your code here"
   ]
  }
 ],
 "metadata": {
  "kernelspec": {
   "display_name": "Python 3",
   "language": "python",
   "name": "python3"
  },
  "language_info": {
   "codemirror_mode": {
    "name": "ipython",
    "version": 3
   },
   "file_extension": ".py",
   "mimetype": "text/x-python",
   "name": "python",
   "nbconvert_exporter": "python",
   "pygments_lexer": "ipython3",
   "version": "3.7.4"
  }
 },
 "nbformat": 4,
 "nbformat_minor": 2
}
